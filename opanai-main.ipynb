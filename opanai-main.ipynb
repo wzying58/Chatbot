{
 "cells": [
  {
   "cell_type": "code",
   "execution_count": null,
   "id": "cd3953c4",
   "metadata": {},
   "outputs": [],
   "source": [
    "import os\n",
    "txt_file_path = 'C:/Users/jean.wang/OneDrive - MediaGeniX NG/Documents/MIT SDS/chatbot'\n",
    "files = os.listdir(txt_file_path)\n",
    " \n",
    "for file in files:\n",
    "    file_path = os.path.join(txt_file_path, file)\n",
    "    with open(file_path, 'r') as file:\n",
    "        file_contents = file.read()\n",
    "        #print(file_contents)\n",
    "\n",
    "\n"
   ]
  },
  {
   "cell_type": "code",
   "execution_count": null,
   "id": "200ca36e",
   "metadata": {},
   "outputs": [],
   "source": [
    "from llama_index import SimpleDirectoryReader, GPTListIndex, readers, GPTSimpleVectorIndex, LLMPredictor, PromptHelper, ServiceContext\n",
    "from langchain import OpenAI\n",
    "import sys\n",
    "import os\n",
    "from IPython.display import Markdown, display\n",
    "\n",
    "def construct_index(directory_path):\n",
    "    \n",
    "    # set maximum input size\n",
    "    max_input_size = 4096\n",
    "    # set number of output tokens\n",
    "    num_outputs = 256\n",
    "    # set maximum chunk overlap\n",
    "    max_chunk_overlap = 20\n",
    "    # set chunk size limit\n",
    "    chunk_size_limit = 600 \n",
    "\n",
    "    # define prompt helper\n",
    "    prompt_helper = PromptHelper(max_input_size, num_outputs, max_chunk_overlap, chunk_size_limit=chunk_size_limit)\n",
    "\n",
    "    # define LLM\n",
    "    llm_predictor = LLMPredictor(llm=OpenAI(temperature=0.5, model_name=\"text-davinci-003\", max_tokens=num_outputs))\n",
    "    #define source data\n",
    "    documents = SimpleDirectoryReader(directory_path).load_data()\n",
    "    \n",
    "    service_context = ServiceContext.from_defaults(llm_predictor=llm_predictor, prompt_helper=prompt_helper)\n",
    "    index = GPTSimpleVectorIndex.from_documents(documents, service_context=service_context)\n",
    "\n",
    "    index.save_to_disk('index.json')\n",
    "\n",
    "    return index\n",
    "\n",
    "def ask_ai():\n",
    "    index = GPTSimpleVectorIndex.load_from_disk('index.json')\n",
    "    while True: \n",
    "        query = input(\"What do you want to ask? \")\n",
    "        response = index.query(query)\n",
    "        display(Markdown(f\"Response: <b>{response.response}</b>\"))\n",
    "        #model_name=\"text-davinci-003\""
   ]
  },
  {
   "cell_type": "code",
   "execution_count": null,
   "id": "3aa19713",
   "metadata": {},
   "outputs": [],
   "source": [
    "construct_index(\"C:/Users/jean.wang/OneDrive - MediaGeniX NG/Documents/MIT SDS/chatbot\")\n",
    "#to find index file, use os.getcwd())\n",
    "ask_ai()"
   ]
  },
  {
   "cell_type": "code",
   "execution_count": null,
   "id": "e1636a81",
   "metadata": {},
   "outputs": [],
   "source": []
  }
 ],
 "metadata": {
  "kernelspec": {
   "display_name": "Python 3 (ipykernel)",
   "language": "python",
   "name": "python3"
  },
  "language_info": {
   "codemirror_mode": {
    "name": "ipython",
    "version": 3
   },
   "file_extension": ".py",
   "mimetype": "text/x-python",
   "name": "python",
   "nbconvert_exporter": "python",
   "pygments_lexer": "ipython3",
   "version": "3.9.13"
  }
 },
 "nbformat": 4,
 "nbformat_minor": 5
}
